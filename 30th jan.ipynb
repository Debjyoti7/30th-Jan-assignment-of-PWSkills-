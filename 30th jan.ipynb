{
 "cells": [
  {
   "cell_type": "markdown",
   "id": "00a77f95-6e77-4610-a6f4-278d99d0cf26",
   "metadata": {},
   "source": [
    "# Question 1"
   ]
  },
  {
   "cell_type": "code",
   "execution_count": null,
   "id": "1b66a083-8f5d-4ad0-ad60-b72c349158ec",
   "metadata": {
    "tags": []
   },
   "outputs": [],
   "source": [
    "marks_obtained= int ( input('Enter the number'))\n",
    "if marks_obtained >90:\n",
    "    print(f'you got A grade')\n",
    "elif marks_obtained >80 and marks_obtained <=90:\n",
    "    print(f'you got B grade')\n",
    "elif marks_obtained >=60 and marks_obtained <=80:\n",
    "    print(f'you got C grade')\n",
    "else:\n",
    "    print(f'you got D grade')\n"
   ]
  },
  {
   "cell_type": "markdown",
   "id": "dd34d5dd-4c82-4835-bf9b-68bb26b59ac2",
   "metadata": {},
   "source": [
    "# Question 2"
   ]
  },
  {
   "cell_type": "code",
   "execution_count": 10,
   "id": "dedda665-cb5b-4fbc-8393-77bb0295fc7a",
   "metadata": {},
   "outputs": [
    {
     "name": "stdin",
     "output_type": "stream",
     "text": [
      "Enter the car price 200000\n"
     ]
    },
    {
     "name": "stdout",
     "output_type": "stream",
     "text": [
      "the tax is 30000.0\n"
     ]
    }
   ],
   "source": [
    "car_price = int( input('Enter the car price'))\n",
    "if car_price > 100000:\n",
    "    print(f'the tax is {0.15*car_price}')\n",
    "elif car_price <=100000 and car_price >50000:\n",
    "    print(f'the tax is {0.1*car_price}')\n",
    "elif car_price <=50000:\n",
    "    print(f'the tax is {0.05*car_price}')  "
   ]
  },
  {
   "cell_type": "markdown",
   "id": "f90ff0f3-0ec1-4755-8f59-3c96c257cb4e",
   "metadata": {},
   "source": [
    "# Question 3"
   ]
  },
  {
   "cell_type": "code",
   "execution_count": 4,
   "id": "3ed5df18-44c4-4f1b-9de5-6f363a26572a",
   "metadata": {},
   "outputs": [
    {
     "name": "stdout",
     "output_type": "stream",
     "text": [
      "related monumnet is Red Fort\n"
     ]
    }
   ],
   "source": [
    "monument_lst=['Red Fort',\"Taj Mahal\",'Jal Mahal']\n",
    "city_lst= [\"Delhi\",\"Agra\",\"Jaipur\"]\n",
    "if city_lst[0] :\n",
    "    print (f'related monumnet is {monument_lst[0]}')\n",
    "elif city_lst[1] :\n",
    "    print(f' related monument is {monument_lst[1]}')\n",
    "elif city_lst[2]:\n",
    "    print(f' related monument is {monument_lst[2]}')\n",
    "    "
   ]
  },
  {
   "cell_type": "markdown",
   "id": "c62c045f-6176-4be0-a7d9-f763c7445a02",
   "metadata": {
    "tags": []
   },
   "source": [
    "# Question 4"
   ]
  },
  {
   "cell_type": "code",
   "execution_count": 1,
   "id": "23038112-1610-425b-9220-a3aaee3503e5",
   "metadata": {},
   "outputs": [
    {
     "name": "stdout",
     "output_type": "stream",
     "text": [
      "1\n"
     ]
    }
   ],
   "source": [
    "def count_divisions(num):\n",
    "    count = 0\n",
    "    while num > 10:\n",
    "        num /= 3\n",
    "        count += 1\n",
    "    return count\n",
    "\n",
    "print(count_divisions(27))\n"
   ]
  },
  {
   "cell_type": "code",
   "execution_count": 3,
   "id": "0ade0517-e3da-4783-a529-69690dc4f299",
   "metadata": {},
   "outputs": [
    {
     "data": {
      "text/plain": [
       "2"
      ]
     },
     "execution_count": 3,
     "metadata": {},
     "output_type": "execute_result"
    }
   ],
   "source": [
    "count_divisions (47)"
   ]
  },
  {
   "cell_type": "markdown",
   "id": "f256f241-af2f-423e-bc87-8aa9306622a4",
   "metadata": {
    "tags": []
   },
   "source": [
    "# Question 5"
   ]
  },
  {
   "cell_type": "markdown",
   "id": "2bf9b41d-4a4b-4d6b-9ab8-23378d044d55",
   "metadata": {
    "tags": []
   },
   "source": [
    "# while loop is used to run a block code until a certain condition is met. "
   ]
  },
  {
   "cell_type": "code",
   "execution_count": 3,
   "id": "7ce1958c-72de-47c9-9390-8c8e00a8037e",
   "metadata": {},
   "outputs": [
    {
     "name": "stdout",
     "output_type": "stream",
     "text": [
      "100000\n",
      "98000\n",
      "96000\n",
      "94000\n",
      "92000\n",
      "90000\n",
      "88000\n",
      "86000\n",
      "84000\n",
      "82000\n",
      "80000\n",
      "78000\n",
      "76000\n",
      "74000\n",
      "72000\n",
      "70000\n",
      "68000\n",
      "66000\n",
      "64000\n",
      "62000\n",
      "60000\n",
      "58000\n",
      "56000\n",
      "54000\n",
      "52000\n",
      "50000\n",
      "48000\n",
      "46000\n",
      "44000\n",
      "42000\n",
      "40000\n",
      "38000\n",
      "36000\n",
      "34000\n",
      "32000\n",
      "30000\n",
      "28000\n",
      "26000\n",
      "24000\n",
      "22000\n",
      "20000\n",
      "18000\n",
      "16000\n",
      "14000\n",
      "12000\n",
      "10000\n",
      "8000\n",
      "6000\n",
      "4000\n",
      "2000\n",
      "NO MONEY\n"
     ]
    }
   ],
   "source": [
    "total_amount=100000\n",
    "while total_amount!=0:\n",
    "    print(total_amount)\n",
    "    total_amount=total_amount-2000\n",
    "else:\n",
    "    print(\"NO MONEY\")"
   ]
  },
  {
   "cell_type": "markdown",
   "id": "fe959507-e666-478f-9654-afaacdfbe47f",
   "metadata": {},
   "source": [
    "# Question6"
   ]
  },
  {
   "cell_type": "code",
   "execution_count": 5,
   "id": "d600fd19-02ef-439a-9509-5ff0d750b7e3",
   "metadata": {},
   "outputs": [
    {
     "name": "stdin",
     "output_type": "stream",
     "text": [
      "Enter the number of rows:  9\n"
     ]
    },
    {
     "name": "stdout",
     "output_type": "stream",
     "text": [
      "*\n",
      "**\n",
      "***\n",
      "****\n",
      "*****\n",
      "******\n",
      "*******\n",
      "********\n",
      "*********\n",
      "**********\n"
     ]
    }
   ],
   "source": [
    "n = int(input(\"Enter the number of rows: \"))\n",
    "i = 0\n",
    "while i <= n:\n",
    "    j = 1\n",
    "    while j <= i:\n",
    "        print(\"*\", end=\"\")\n",
    "        j += 1\n",
    "    print(\"*\")\n",
    "    i += 1"
   ]
  },
  {
   "cell_type": "code",
   "execution_count": 4,
   "id": "681f0716-41fb-48d4-95e8-96dcf90c39c5",
   "metadata": {},
   "outputs": [
    {
     "name": "stdout",
     "output_type": "stream",
     "text": [
      "*****\n",
      "****\n",
      "***\n",
      "**\n",
      "*\n"
     ]
    }
   ],
   "source": [
    "for i in range(5, 0, -1):\n",
    "    for j in range(i):\n",
    "        print(\"*\", end=\"\")\n",
    "    print(\"\")\n"
   ]
  },
  {
   "cell_type": "code",
   "execution_count": 6,
   "id": "c5a5499c-d353-4a49-83ce-32939e994666",
   "metadata": {},
   "outputs": [
    {
     "name": "stdout",
     "output_type": "stream",
     "text": [
      "*\n",
      "**\n",
      "***\n",
      "****\n",
      "*****\n",
      "******\n",
      "*******\n",
      "********\n",
      "*********\n",
      "**********\n",
      "***********\n"
     ]
    }
   ],
   "source": [
    "for i in range(1, 12):\n",
    "    for j in range(i):\n",
    "        print(\"*\", end=\"\")\n",
    "    print(\"\")\n"
   ]
  },
  {
   "cell_type": "code",
   "execution_count": null,
   "id": "2c5309c6-2501-4392-bae7-b3c3efe59602",
   "metadata": {},
   "outputs": [],
   "source": [
    "# Questi"
   ]
  },
  {
   "cell_type": "code",
   "execution_count": 7,
   "id": "21bddd43-8f49-4788-ae8c-df5d203df7f9",
   "metadata": {},
   "outputs": [
    {
     "name": "stdout",
     "output_type": "stream",
     "text": [
      "10\n",
      "9\n",
      "8\n",
      "7\n",
      "6\n",
      "5\n",
      "4\n",
      "3\n",
      "2\n",
      "1\n"
     ]
    }
   ],
   "source": [
    "num = 10\n",
    "while num > 0:\n",
    "    print(num)\n",
    "    num -= 1\n"
   ]
  },
  {
   "cell_type": "code",
   "execution_count": null,
   "id": "c94f6963-d4d0-4204-8bb4-2451d9f95d9b",
   "metadata": {},
   "outputs": [],
   "source": []
  }
 ],
 "metadata": {
  "kernelspec": {
   "display_name": "Python 3 (ipykernel)",
   "language": "python",
   "name": "python3"
  },
  "language_info": {
   "codemirror_mode": {
    "name": "ipython",
    "version": 3
   },
   "file_extension": ".py",
   "mimetype": "text/x-python",
   "name": "python",
   "nbconvert_exporter": "python",
   "pygments_lexer": "ipython3",
   "version": "3.10.8"
  }
 },
 "nbformat": 4,
 "nbformat_minor": 5
}
